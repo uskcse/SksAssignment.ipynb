{
 "cells": [
  {
   "cell_type": "code",
   "execution_count": 1,
   "metadata": {},
   "outputs": [],
   "source": [
    "import pandas as pd"
   ]
  },
  {
   "cell_type": "code",
   "execution_count": 2,
   "metadata": {},
   "outputs": [],
   "source": [
    "data = pd.read_csv(\"coupons_ner.csv\")"
   ]
  },
  {
   "cell_type": "code",
   "execution_count": 9,
   "metadata": {},
   "outputs": [],
   "source": [
    "d = data.columns"
   ]
  },
  {
   "cell_type": "code",
   "execution_count": 11,
   "metadata": {},
   "outputs": [],
   "source": [
    "data.columns = ['description']"
   ]
  },
  {
   "cell_type": "code",
   "execution_count": 187,
   "metadata": {},
   "outputs": [
    {
     "name": "stderr",
     "output_type": "stream",
     "text": [
      "100%|█████████████████████████████████████████████████████████████████████████████| 885/885 [00:00<00:00, 43770.52it/s]\n"
     ]
    }
   ],
   "source": [
    "import re \n",
    "from tqdm import tqdm\n",
    "def facevalue(x):\n",
    "    \"\"\"\n",
    "    input: a data point as x\n",
    "    output: the amount we save given in description else 0\n",
    "    Time Complexity: O(n) # n-number of data points we a possing\n",
    "    But it will work much faster than O(n) as we use map\n",
    "    \"\"\" \n",
    "    if re.search(\"(\\d+(?:\\.\\d+)?\\¢)\", x) is not None:\n",
    "        return '$'+str(int(re.search(\"(\\d+(?:\\.\\d+)?\\¢)\", x).group(1)[:-1])/10)\n",
    "    elif re.search(\"(\\$\\d+(?:\\.\\d+)?)|[^SAVE]\\.\\d+(?:\\.\\d+)?\", x) is not None:\n",
    "        return re.search(\"(\\$\\d+(?:\\.\\d+)?)|[^SAVE]\\.\\d+(?:\\.\\d+)?\", x).group(0)\n",
    "#    we can add some conditions as below capture gain of the offer but as its number only field \n",
    "#    mentioned in reference pdf we are limiting for numbers only and we will add others as 0\n",
    "#     elif 'BUY ONE GET ONE FREE' in x:\n",
    "#         return 'BUY ONE GET ONE FREE'\n",
    "#     elif 'BUY TWO GET ONE Buy ONE' in x:\n",
    "#         return 'BUY TWO GET ONE Buy ONE'\n",
    "#     else:\n",
    "#         return \"Product at good Price Already\" \n",
    "    else:\n",
    "        return 0\n",
    "FaceValue = list(map(facevalue,tqdm(data['description'])))"
   ]
  },
  {
   "cell_type": "code",
   "execution_count": null,
   "metadata": {},
   "outputs": [],
   "source": []
  }
 ],
 "metadata": {
  "kernelspec": {
   "display_name": "Python 3",
   "language": "python",
   "name": "python3"
  },
  "language_info": {
   "codemirror_mode": {
    "name": "ipython",
    "version": 3
   },
   "file_extension": ".py",
   "mimetype": "text/x-python",
   "name": "python",
   "nbconvert_exporter": "python",
   "pygments_lexer": "ipython3",
   "version": "3.6.3rc1"
  }
 },
 "nbformat": 4,
 "nbformat_minor": 4
}
