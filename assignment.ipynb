{
 "cells": [
  {
   "cell_type": "code",
   "execution_count": 1,
   "metadata": {},
   "outputs": [],
   "source": [
    "import pandas as pd"
   ]
  },
  {
   "cell_type": "code",
   "execution_count": 2,
   "metadata": {},
   "outputs": [],
   "source": [
    "data = pd.read_csv(\"coupons_ner.csv\")"
   ]
  },
  {
   "cell_type": "code",
   "execution_count": 3,
   "metadata": {},
   "outputs": [],
   "source": [
    "d = data.columns"
   ]
  },
  {
   "cell_type": "code",
   "execution_count": 4,
   "metadata": {},
   "outputs": [],
   "source": [
    "data.columns = ['description']"
   ]
  },
  {
   "cell_type": "code",
   "execution_count": 5,
   "metadata": {},
   "outputs": [
    {
     "name": "stderr",
     "output_type": "stream",
     "text": [
      "100%|█████████████████████████████████████████████████████████████████████████████| 885/885 [00:00<00:00, 73619.31it/s]\n"
     ]
    }
   ],
   "source": [
    "import re \n",
    "from tqdm import tqdm\n",
    "def facevalue(x):\n",
    "    \"\"\"\n",
    "    input: a data point as x\n",
    "    output: the amount we save given in description else 0\n",
    "    Time Complexity: O(n) # n-number of data points we a possing\n",
    "    But it will work much faster than O(n) as we use map\n",
    "    \"\"\" \n",
    "    if re.search(\"(\\d+(?:\\.\\d+)?\\¢)\", x) is not None:\n",
    "        return '$'+str(int(re.search(\"(\\d+(?:\\.\\d+)?\\¢)\", x).group(1)[:-1])/10)\n",
    "    elif re.search(\"(\\$\\d+(?:\\.\\d+)?)|[^SAVE]\\.\\d+(?:\\.\\d+)?\", x) is not None:\n",
    "        return re.search(\"(\\$\\d+(?:\\.\\d+)?)|[^SAVE]\\.\\d+(?:\\.\\d+)?\", x).group(0)\n",
    "#    we can add some conditions as below capture gain of the offer but as its number only field \n",
    "#    mentioned in reference pdf we are limiting for numbers only and we will add others as 0\n",
    "#     elif 'BUY ONE GET ONE FREE' in x:\n",
    "#         return 'BUY ONE GET ONE FREE'\n",
    "#     elif 'BUY TWO GET ONE Buy ONE' in x:\n",
    "#         return 'BUY TWO GET ONE Buy ONE'\n",
    "#     else:\n",
    "#         return \"Product at good Price Already\" \n",
    "    else:\n",
    "        return 0\n",
    "FaceValue = list(map(facevalue,tqdm(data['description'])))"
   ]
  },
  {
   "cell_type": "code",
   "execution_count": 6,
   "metadata": {},
   "outputs": [],
   "source": [
    "data['FaceValue'] = FaceValue"
   ]
  },
  {
   "cell_type": "code",
   "execution_count": 7,
   "metadata": {},
   "outputs": [
    {
     "data": {
      "text/html": [
       "<div>\n",
       "<style scoped>\n",
       "    .dataframe tbody tr th:only-of-type {\n",
       "        vertical-align: middle;\n",
       "    }\n",
       "\n",
       "    .dataframe tbody tr th {\n",
       "        vertical-align: top;\n",
       "    }\n",
       "\n",
       "    .dataframe thead th {\n",
       "        text-align: right;\n",
       "    }\n",
       "</style>\n",
       "<table border=\"1\" class=\"dataframe\">\n",
       "  <thead>\n",
       "    <tr style=\"text-align: right;\">\n",
       "      <th></th>\n",
       "      <th>description</th>\n",
       "      <th>FaceValue</th>\n",
       "    </tr>\n",
       "  </thead>\n",
       "  <tbody>\n",
       "    <tr>\n",
       "      <th>0</th>\n",
       "      <td>Save $2.00 ONE Tide PODS OR Tide Power PODS (e...</td>\n",
       "      <td>$2.00</td>\n",
       "    </tr>\n",
       "    <tr>\n",
       "      <th>1</th>\n",
       "      <td>Save $2.00 ONE Tide Laundry Detergent (exclude...</td>\n",
       "      <td>$2.00</td>\n",
       "    </tr>\n",
       "    <tr>\n",
       "      <th>2</th>\n",
       "      <td>SAVE $1.00 ON TWO when you buy TWO BOXES (8.9 ...</td>\n",
       "      <td>$1.00</td>\n",
       "    </tr>\n",
       "    <tr>\n",
       "      <th>3</th>\n",
       "      <td>$3.00 OFF when you purchase any THREE (3) Pepp...</td>\n",
       "      <td>$3.00</td>\n",
       "    </tr>\n",
       "    <tr>\n",
       "      <th>4</th>\n",
       "      <td>SAVE $1.11 when you buy any ONE (1) Familly Si...</td>\n",
       "      <td>$1.11</td>\n",
       "    </tr>\n",
       "    <tr>\n",
       "      <th>...</th>\n",
       "      <td>...</td>\n",
       "      <td>...</td>\n",
       "    </tr>\n",
       "    <tr>\n",
       "      <th>880</th>\n",
       "      <td>SAVE $2.00 when you buy $7 worth of participat...</td>\n",
       "      <td>$2.00</td>\n",
       "    </tr>\n",
       "    <tr>\n",
       "      <th>881</th>\n",
       "      <td>SAVE $5.00 on any Gain scented purchase of $30...</td>\n",
       "      <td>$5.00</td>\n",
       "    </tr>\n",
       "    <tr>\n",
       "      <th>882</th>\n",
       "      <td>SAVE $1.00 when you buy any ONE (1) NEW AXE pr...</td>\n",
       "      <td>$1.00</td>\n",
       "    </tr>\n",
       "    <tr>\n",
       "      <th>883</th>\n",
       "      <td>BUY TWO GET ONE Buy ONE (1) CHIPS AHOY! Cookie...</td>\n",
       "      <td>9.5</td>\n",
       "    </tr>\n",
       "    <tr>\n",
       "      <th>884</th>\n",
       "      <td>SAVE $2.00 when you spend $6 on all Suave® pro...</td>\n",
       "      <td>$2.00</td>\n",
       "    </tr>\n",
       "  </tbody>\n",
       "</table>\n",
       "<p>885 rows × 2 columns</p>\n",
       "</div>"
      ],
      "text/plain": [
       "                                           description FaceValue\n",
       "0    Save $2.00 ONE Tide PODS OR Tide Power PODS (e...     $2.00\n",
       "1    Save $2.00 ONE Tide Laundry Detergent (exclude...     $2.00\n",
       "2    SAVE $1.00 ON TWO when you buy TWO BOXES (8.9 ...     $1.00\n",
       "3    $3.00 OFF when you purchase any THREE (3) Pepp...     $3.00\n",
       "4    SAVE $1.11 when you buy any ONE (1) Familly Si...     $1.11\n",
       "..                                                 ...       ...\n",
       "880  SAVE $2.00 when you buy $7 worth of participat...     $2.00\n",
       "881  SAVE $5.00 on any Gain scented purchase of $30...     $5.00\n",
       "882  SAVE $1.00 when you buy any ONE (1) NEW AXE pr...     $1.00\n",
       "883  BUY TWO GET ONE Buy ONE (1) CHIPS AHOY! Cookie...       9.5\n",
       "884  SAVE $2.00 when you spend $6 on all Suave® pro...     $2.00\n",
       "\n",
       "[885 rows x 2 columns]"
      ]
     },
     "execution_count": 7,
     "metadata": {},
     "output_type": "execute_result"
    }
   ],
   "source": [
    "data"
   ]
  }
 ],
 "metadata": {
  "kernelspec": {
   "display_name": "Python 3",
   "language": "python",
   "name": "python3"
  },
  "language_info": {
   "codemirror_mode": {
    "name": "ipython",
    "version": 3
   },
   "file_extension": ".py",
   "mimetype": "text/x-python",
   "name": "python",
   "nbconvert_exporter": "python",
   "pygments_lexer": "ipython3",
   "version": "3.6.3rc1"
  }
 },
 "nbformat": 4,
 "nbformat_minor": 4
}
